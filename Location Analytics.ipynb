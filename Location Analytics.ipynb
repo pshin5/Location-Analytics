{
    "cells": [
        {
            "cell_type": "markdown",
            "metadata": {
                "collapsed": true
            },
            "source": "# LOCATION ANALYSIS FOR A NEW RESTAURANT IN BRISBANE"
        },
        {
            "cell_type": "markdown",
            "metadata": {},
            "source": "## Introduction/Business Problem"
        },
        {
            "cell_type": "markdown",
            "metadata": {},
            "source": "As a capital city of Queensland State, the third most populous city in Australia after Sydney and Melbourne, Brisbane offers a more manageable lifestyle and affordable cost of living. The city is known as one of Australian\u2019s major business hubs with strengths in mining, banking, transportation, information technology and food that create jobs and business opportunities. City residents are spoilt with restaurants and dining establishments including outdoor dining, food trucks and roof-top bars.\n\nIn today\u2019s tight competition, choosing a right location for business can be crucial but it requires research and planning about the area, demographic and market profiles of the location. It becomes a balancing act, for investors who are interested to open a restaurant in Brisbane area, between spending time and money undertaking proper assessment to choose a location and starting a business itself. This location analysis provides a high-level overview of suburb within close proximity to Brisbane CBD presenting information and insight through data visualisation for investors considering locations for their new restaurants."
        },
        {
            "cell_type": "markdown",
            "metadata": {},
            "source": "## Data"
        },
        {
            "cell_type": "markdown",
            "metadata": {},
            "source": "Data used for this analysis includes:\n\n - Locality boundaries dataset from Queensland Government consists of spatial representation of boundary areas for suburbs;\n - Index score (in deciles) from Australian Bureau Statistics (ABS) indicates relative socio-economic and demographic profiles of suburbs derived from Australian census data;\n - Data on venues in suburbs from Foursquare used to capture information about geographic location, category, and popularity, and provide insight about potential competitions or/and restaurant opportunities."
        }
    ],
    "metadata": {
        "kernelspec": {
            "display_name": "Python 3.6",
            "language": "python",
            "name": "python3"
        },
        "language_info": {
            "codemirror_mode": {
                "name": "ipython",
                "version": 3
            },
            "file_extension": ".py",
            "mimetype": "text/x-python",
            "name": "python",
            "nbconvert_exporter": "python",
            "pygments_lexer": "ipython3",
            "version": "3.6.9"
        }
    },
    "nbformat": 4,
    "nbformat_minor": 1
}